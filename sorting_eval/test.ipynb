{
 "cells": [
  {
   "cell_type": "code",
   "execution_count": 9,
   "id": "2d88ecab",
   "metadata": {},
   "outputs": [],
   "source": [
    "import numpy as np\n",
    "import time\n",
    "from numba import njit\n",
    "from numba.typed import List"
   ]
  },
  {
   "cell_type": "code",
   "execution_count": 10,
   "id": "c19bd594",
   "metadata": {},
   "outputs": [],
   "source": [
    "@njit\n",
    "def footman(arr, sorted_arr):\n",
    "    total = 0\n",
    "    for i in range(arr.shape[0]):\n",
    "        total += abs(arr[i] - sorted_arr[i])\n",
    "    return total"
   ]
  },
  {
   "cell_type": "code",
   "execution_count": 11,
   "id": "4878556f",
   "metadata": {},
   "outputs": [],
   "source": [
    "@njit\n",
    "def bubble_1(arr):\n",
    "    n = len(arr)\n",
    "    scores = List()          \n",
    "    scores.append(footman(arr, np.arange(n)))\n",
    "    sorted_order = np.arange(n)\n",
    "    for _ in range(n - 1):\n",
    "        for j in range(n - 1):\n",
    "            scores.append(footman(arr, sorted_order))\n",
    "            if arr[j] > arr[j + 1]:\n",
    "                arr[j], arr[j + 1] = arr[j + 1], arr[j]\n",
    "\n",
    "    return arr, scores\n"
   ]
  },
  {
   "cell_type": "code",
   "execution_count": 12,
   "id": "48146b2a",
   "metadata": {},
   "outputs": [
    {
     "name": "stdout",
     "output_type": "stream",
     "text": [
      "Time taken: 0.989 seconds\n",
      "Scores collected: 998002\n"
     ]
    }
   ],
   "source": [
    "arr = np.random.permutation(1000)\n",
    "start = time.time()\n",
    "sorted_arr, scores = bubble_1(arr.copy())\n",
    "end = time.time()\n",
    "\n",
    "print(f\"Time taken: {end - start:.3f} seconds\")\n",
    "print(f\"Scores collected: {len(scores)}\")"
   ]
  }
 ],
 "metadata": {
  "kernelspec": {
   "display_name": "base",
   "language": "python",
   "name": "python3"
  },
  "language_info": {
   "codemirror_mode": {
    "name": "ipython",
    "version": 3
   },
   "file_extension": ".py",
   "mimetype": "text/x-python",
   "name": "python",
   "nbconvert_exporter": "python",
   "pygments_lexer": "ipython3",
   "version": "3.11.7"
  }
 },
 "nbformat": 4,
 "nbformat_minor": 5
}
