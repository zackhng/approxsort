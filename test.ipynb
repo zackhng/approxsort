{
 "cells": [
  {
   "cell_type": "code",
   "execution_count": 1,
   "id": "2d88ecab",
   "metadata": {},
   "outputs": [],
   "source": [
    "import time\n",
    "import math\n",
    "import random as rand\n",
    "import numpy as np\n",
    "from typing import Callable , Tuple, List\n",
    "import matplotlib.pyplot as plt\n",
    "from numba import njit\n",
    "from numba.typed import List"
   ]
  },
  {
   "cell_type": "code",
   "execution_count": 2,
   "id": "c19bd594",
   "metadata": {},
   "outputs": [],
   "source": [
    "@njit\n",
    "def footman(arr: np.ndarray, sorted_arr: np.ndarray) -> int:\n",
    "    return np.sum(np.abs(arr - sorted_arr))"
   ]
  },
  {
   "cell_type": "code",
   "execution_count": 3,
   "id": "0aef6def",
   "metadata": {},
   "outputs": [
    {
     "name": "stdout",
     "output_type": "stream",
     "text": [
      "State: [10  9  8  7  6  5  4  3  2  1], Score: 50\n",
      "State: [ 9  8  7  6  5  4  3  2  1 10], Score: 40\n",
      "State: [ 8  7  6  5  4  3  2  1  9 10], Score: 32\n",
      "State: [ 7  6  5  4  3  2  1  8  9 10], Score: 24\n",
      "State: [ 6  5  4  3  2  1  7  8  9 10], Score: 18\n",
      "State: [ 5  4  3  2  1  6  7  8  9 10], Score: 12\n",
      "State: [ 4  3  2  1  5  6  7  8  9 10], Score: 8\n",
      "State: [ 3  2  1  4  5  6  7  8  9 10], Score: 4\n",
      "State: [ 2  1  3  4  5  6  7  8  9 10], Score: 2\n",
      "State: [ 1  2  3  4  5  6  7  8  9 10], Score: 0\n"
     ]
    }
   ],
   "source": [
    "# # l = np.array([i for i in range(10,0,-1)])\n",
    "# l = np.array([9,10,8,7,6,5,4,3,2,1])\n",
    "# sorted_l = np.array([i for i in range(1,11,1)])\n",
    "# footman(l,sorted_l)\n",
    "@njit\n",
    "def bubble_sort_states_with_scores(size):\n",
    "    arr = np.arange(size, 0, -1)         # Start: [10,9,...,1]\n",
    "    sorted_arr = np.arange(1, size + 1)  # Sorted: [1,2,...,10]\n",
    "    states = [arr.copy()]\n",
    "    scores = [footman(arr, sorted_arr)]\n",
    "\n",
    "    for i in range(size - 1):\n",
    "        # Bubble pass: swap adjacent elements if out of order up to index (size - i - 1)\n",
    "        for j in range(size - i - 1):\n",
    "            if arr[j] > arr[j + 1]:\n",
    "                arr[j], arr[j + 1] = arr[j + 1], arr[j]\n",
    "        states.append(arr.copy())\n",
    "        scores.append(footman(arr, sorted_arr))\n",
    "\n",
    "    return states, scores\n",
    "\n",
    "states, scores = bubble_sort_states_with_scores(10)\n",
    "for s, sc in zip(states, scores):\n",
    "    print(f\"State: {s}, Score: {sc}\")"
   ]
  },
  {
   "cell_type": "code",
   "execution_count": 4,
   "id": "9324983a",
   "metadata": {},
   "outputs": [
    {
     "name": "stdout",
     "output_type": "stream",
     "text": [
      "([array([10,  9,  8,  7,  6,  5,  4,  3,  2,  1], dtype=int64), array([ 9,  8,  7,  6,  5,  4,  3,  2,  1, 10], dtype=int64), array([ 8,  7,  6,  5,  4,  3,  2,  1,  9, 10], dtype=int64), array([ 7,  6,  5,  4,  3,  2,  1,  8,  9, 10], dtype=int64), array([ 6,  5,  4,  3,  2,  1,  7,  8,  9, 10], dtype=int64), array([ 5,  4,  3,  2,  1,  6,  7,  8,  9, 10], dtype=int64), array([ 4,  3,  2,  1,  5,  6,  7,  8,  9, 10], dtype=int64), array([ 3,  2,  1,  4,  5,  6,  7,  8,  9, 10], dtype=int64), array([ 2,  1,  3,  4,  5,  6,  7,  8,  9, 10], dtype=int64), array([ 1,  2,  3,  4,  5,  6,  7,  8,  9, 10], dtype=int64)], [50, 40, 32, 24, 18, 12, 8, 4, 2, 0])\n"
     ]
    }
   ],
   "source": [
    "s = bubble_sort_states_with_scores(10)\n",
    "print(s)"
   ]
  },
  {
   "cell_type": "code",
   "execution_count": 5,
   "id": "4878556f",
   "metadata": {},
   "outputs": [],
   "source": [
    "@njit\n",
    "def bubble_1(arr: np.ndarray) -> tuple:\n",
    "    n = len(arr)\n",
    "    sorted_order = np.arange(n)\n",
    "    scores = List()          \n",
    "    scores.append(footman(arr, np.arange(n)))\n",
    "\n",
    "    for _ in range(n - 1):\n",
    "        for j in range(n - 1):\n",
    "            scores.append(footman(arr, sorted_order))\n",
    "            if arr[j] > arr[j + 1]:\n",
    "                arr[j], arr[j + 1] = arr[j + 1], arr[j]\n",
    "\n",
    "    return scores\n"
   ]
  },
  {
   "cell_type": "code",
   "execution_count": 6,
   "id": "8beaecc5",
   "metadata": {},
   "outputs": [],
   "source": [
    "def sim(iter: int, arr_size: int, seed:int = 10, sort_func: Callable = None) -> np.ndarray:\n",
    "    rand.seed(seed)\n",
    "    scores_of_scores = []\n",
    "\n",
    "    for _ in range(iter):\n",
    "        l = np.arange(arr_size)\n",
    "        rand.shuffle(l)\n",
    "        scores = sort_func(l.copy())\n",
    "        scores_of_scores.append(scores)\n",
    "\n",
    "    max_len = max(len(s) for s in scores_of_scores)\n",
    "    padded_scores = np.array([\n",
    "        np.pad(s, (0, max_len - len(s)), 'edge') for s in scores_of_scores\n",
    "    ])\n",
    "\n",
    "    return padded_scores"
   ]
  },
  {
   "cell_type": "code",
   "execution_count": null,
   "id": "cc345418",
   "metadata": {},
   "outputs": [],
   "source": [
    "def plot_algorithms(\n",
    "    functions: List[Callable],\n",
    "    names: List[str],\n",
    "    iter: int,\n",
    "    arr_size: int,\n",
    "    seed: int = 10\n",
    "    ):\n",
    "    assert len(functions) == len(names), \"Each function must have a corresponding name\"\n",
    "\n",
    "    colors = ['blue', 'green', 'red', 'purple', 'orange']\n",
    "\n",
    "    for i, func in enumerate(functions):\n",
    "        scores = sim(iter, arr_size, seed=seed, sort_func=func)\n",
    "        scores_of_scores = np.array(scores)\n",
    "        sorted_score = np.sort(scores_of_scores, axis = 0)\n",
    "\n",
    "        upper = sorted_score[math.floor(iter * 0.95)]\n",
    "        lower = sorted_score[math.floor(iter * 0.05)]\n",
    "        mean = sorted_score[math.floor(iter * 0.50)]\n",
    "\n",
    "        plt.fill_between(\n",
    "            np.arange(sorted_score[0].size),\n",
    "            lower,\n",
    "            upper,\n",
    "            color = colors[i%len(colors)],\n",
    "            alpha = 0.2\n",
    "        )\n",
    "\n",
    "        plt.plot(\n",
    "            np.arange(sorted_score[0].size),\n",
    "            mean,\n",
    "            color = colors[i%len(colors)]\n",
    "        )\n",
    "\n",
    "        _,actual_score = bubble_sort_states_with_scores(arr_size)\n",
    "\n",
    "        plt.plot(\n",
    "        np.arange(sorted_score[0].size),\n",
    "        actual_score,\n",
    "        color='black',\n",
    "        linestyle='--',\n",
    "        linewidth=2,\n",
    "        label='Actual bubble sort score'\n",
    "    )\n",
    "\n",
    "    plt.xlabel('Sorting Step')\n",
    "    plt.ylabel('Score')\n",
    "    plt.title('Sorting Algorithms Comparison (±3 std bands)')\n",
    "    plt.legend()\n",
    "    plt.grid(True)\n",
    "    plt.tight_layout()\n",
    "    plt.savefig(f'bubble_plot/bubble_test.png')\n",
    "    plt.show()\n"
   ]
  },
  {
   "cell_type": "code",
   "execution_count": 8,
   "id": "48146b2a",
   "metadata": {},
   "outputs": [],
   "source": [
    "# arr = np.random.permutation(10)\n",
    "# start = time.time()\n",
    "# sorted_arr, scores, state = bubble_1(arr.copy())\n",
    "# end = time.time()\n",
    "\n",
    "# print(f\"Time taken: {end - start:.3f} seconds\")\n",
    "# print(f\"Scores collected: {len(scores)}\")"
   ]
  },
  {
   "cell_type": "code",
   "execution_count": null,
   "id": "60b86f15",
   "metadata": {},
   "outputs": [],
   "source": []
  },
  {
   "cell_type": "code",
   "execution_count": 9,
   "id": "ac2aa1be",
   "metadata": {},
   "outputs": [
    {
     "ename": "ValueError",
     "evalue": "x and y must have same first dimension, but have shapes (9802,) and (100,)",
     "output_type": "error",
     "traceback": [
      "\u001b[1;31m---------------------------------------------------------------------------\u001b[0m",
      "\u001b[1;31mValueError\u001b[0m                                Traceback (most recent call last)",
      "Cell \u001b[1;32mIn[9], line 2\u001b[0m\n\u001b[0;32m      1\u001b[0m \u001b[38;5;66;03m# scores, states = sim(500, 100, seed=10, sort_func=bubble_1)\u001b[39;00m\n\u001b[1;32m----> 2\u001b[0m plot_algorithms([bubble_1], \n\u001b[0;32m      3\u001b[0m                 [\u001b[38;5;124m\"\u001b[39m\u001b[38;5;124mB1\u001b[39m\u001b[38;5;124m\"\u001b[39m],\n\u001b[0;32m      4\u001b[0m                 \u001b[38;5;241m500\u001b[39m,\u001b[38;5;241m100\u001b[39m)\n",
      "Cell \u001b[1;32mIn[7], line 37\u001b[0m, in \u001b[0;36mplot_algorithms\u001b[1;34m(functions, names, iter, arr_size, seed)\u001b[0m\n\u001b[0;32m     29\u001b[0m     plt\u001b[38;5;241m.\u001b[39mplot(\n\u001b[0;32m     30\u001b[0m         np\u001b[38;5;241m.\u001b[39marange(sorted_score[\u001b[38;5;241m0\u001b[39m]\u001b[38;5;241m.\u001b[39msize),\n\u001b[0;32m     31\u001b[0m         mean,\n\u001b[0;32m     32\u001b[0m         color \u001b[38;5;241m=\u001b[39m colors[i\u001b[38;5;241m%\u001b[39m\u001b[38;5;28mlen\u001b[39m(colors)]\n\u001b[0;32m     33\u001b[0m     )\n\u001b[0;32m     35\u001b[0m     _,actual_score \u001b[38;5;241m=\u001b[39m bubble_sort_states_with_scores(arr_size)\n\u001b[1;32m---> 37\u001b[0m     plt\u001b[38;5;241m.\u001b[39mplot(\n\u001b[0;32m     38\u001b[0m     np\u001b[38;5;241m.\u001b[39marange(sorted_score[\u001b[38;5;241m0\u001b[39m]\u001b[38;5;241m.\u001b[39msize),\n\u001b[0;32m     39\u001b[0m     actual_score,\n\u001b[0;32m     40\u001b[0m     color\u001b[38;5;241m=\u001b[39m\u001b[38;5;124m'\u001b[39m\u001b[38;5;124mblack\u001b[39m\u001b[38;5;124m'\u001b[39m,\n\u001b[0;32m     41\u001b[0m     linestyle\u001b[38;5;241m=\u001b[39m\u001b[38;5;124m'\u001b[39m\u001b[38;5;124m--\u001b[39m\u001b[38;5;124m'\u001b[39m,\n\u001b[0;32m     42\u001b[0m     linewidth\u001b[38;5;241m=\u001b[39m\u001b[38;5;241m2\u001b[39m,\n\u001b[0;32m     43\u001b[0m     label\u001b[38;5;241m=\u001b[39m\u001b[38;5;124m'\u001b[39m\u001b[38;5;124mActual bubble sort score\u001b[39m\u001b[38;5;124m'\u001b[39m\n\u001b[0;32m     44\u001b[0m )\n\u001b[0;32m     46\u001b[0m plt\u001b[38;5;241m.\u001b[39mxlabel(\u001b[38;5;124m'\u001b[39m\u001b[38;5;124mSorting Step\u001b[39m\u001b[38;5;124m'\u001b[39m)\n\u001b[0;32m     47\u001b[0m plt\u001b[38;5;241m.\u001b[39mylabel(\u001b[38;5;124m'\u001b[39m\u001b[38;5;124mScore\u001b[39m\u001b[38;5;124m'\u001b[39m)\n",
      "File \u001b[1;32mc:\\Users\\USRR\\anaconda3\\Lib\\site-packages\\matplotlib\\pyplot.py:2785\u001b[0m, in \u001b[0;36mplot\u001b[1;34m(scalex, scaley, data, *args, **kwargs)\u001b[0m\n\u001b[0;32m   2783\u001b[0m \u001b[38;5;129m@_copy_docstring_and_deprecators\u001b[39m(Axes\u001b[38;5;241m.\u001b[39mplot)\n\u001b[0;32m   2784\u001b[0m \u001b[38;5;28;01mdef\u001b[39;00m \u001b[38;5;21mplot\u001b[39m(\u001b[38;5;241m*\u001b[39margs, scalex\u001b[38;5;241m=\u001b[39m\u001b[38;5;28;01mTrue\u001b[39;00m, scaley\u001b[38;5;241m=\u001b[39m\u001b[38;5;28;01mTrue\u001b[39;00m, data\u001b[38;5;241m=\u001b[39m\u001b[38;5;28;01mNone\u001b[39;00m, \u001b[38;5;241m*\u001b[39m\u001b[38;5;241m*\u001b[39mkwargs):\n\u001b[1;32m-> 2785\u001b[0m     \u001b[38;5;28;01mreturn\u001b[39;00m gca()\u001b[38;5;241m.\u001b[39mplot(\n\u001b[0;32m   2786\u001b[0m         \u001b[38;5;241m*\u001b[39margs, scalex\u001b[38;5;241m=\u001b[39mscalex, scaley\u001b[38;5;241m=\u001b[39mscaley,\n\u001b[0;32m   2787\u001b[0m         \u001b[38;5;241m*\u001b[39m\u001b[38;5;241m*\u001b[39m({\u001b[38;5;124m\"\u001b[39m\u001b[38;5;124mdata\u001b[39m\u001b[38;5;124m\"\u001b[39m: data} \u001b[38;5;28;01mif\u001b[39;00m data \u001b[38;5;129;01mis\u001b[39;00m \u001b[38;5;129;01mnot\u001b[39;00m \u001b[38;5;28;01mNone\u001b[39;00m \u001b[38;5;28;01melse\u001b[39;00m {}), \u001b[38;5;241m*\u001b[39m\u001b[38;5;241m*\u001b[39mkwargs)\n",
      "File \u001b[1;32mc:\\Users\\USRR\\anaconda3\\Lib\\site-packages\\matplotlib\\axes\\_axes.py:1688\u001b[0m, in \u001b[0;36mAxes.plot\u001b[1;34m(self, scalex, scaley, data, *args, **kwargs)\u001b[0m\n\u001b[0;32m   1445\u001b[0m \u001b[38;5;250m\u001b[39m\u001b[38;5;124;03m\"\"\"\u001b[39;00m\n\u001b[0;32m   1446\u001b[0m \u001b[38;5;124;03mPlot y versus x as lines and/or markers.\u001b[39;00m\n\u001b[0;32m   1447\u001b[0m \n\u001b[1;32m   (...)\u001b[0m\n\u001b[0;32m   1685\u001b[0m \u001b[38;5;124;03m(``'green'``) or hex strings (``'#008000'``).\u001b[39;00m\n\u001b[0;32m   1686\u001b[0m \u001b[38;5;124;03m\"\"\"\u001b[39;00m\n\u001b[0;32m   1687\u001b[0m kwargs \u001b[38;5;241m=\u001b[39m cbook\u001b[38;5;241m.\u001b[39mnormalize_kwargs(kwargs, mlines\u001b[38;5;241m.\u001b[39mLine2D)\n\u001b[1;32m-> 1688\u001b[0m lines \u001b[38;5;241m=\u001b[39m [\u001b[38;5;241m*\u001b[39m\u001b[38;5;28mself\u001b[39m\u001b[38;5;241m.\u001b[39m_get_lines(\u001b[38;5;241m*\u001b[39margs, data\u001b[38;5;241m=\u001b[39mdata, \u001b[38;5;241m*\u001b[39m\u001b[38;5;241m*\u001b[39mkwargs)]\n\u001b[0;32m   1689\u001b[0m \u001b[38;5;28;01mfor\u001b[39;00m line \u001b[38;5;129;01min\u001b[39;00m lines:\n\u001b[0;32m   1690\u001b[0m     \u001b[38;5;28mself\u001b[39m\u001b[38;5;241m.\u001b[39madd_line(line)\n",
      "File \u001b[1;32mc:\\Users\\USRR\\anaconda3\\Lib\\site-packages\\matplotlib\\axes\\_base.py:311\u001b[0m, in \u001b[0;36m_process_plot_var_args.__call__\u001b[1;34m(self, data, *args, **kwargs)\u001b[0m\n\u001b[0;32m    309\u001b[0m     this \u001b[38;5;241m+\u001b[39m\u001b[38;5;241m=\u001b[39m args[\u001b[38;5;241m0\u001b[39m],\n\u001b[0;32m    310\u001b[0m     args \u001b[38;5;241m=\u001b[39m args[\u001b[38;5;241m1\u001b[39m:]\n\u001b[1;32m--> 311\u001b[0m \u001b[38;5;28;01myield from\u001b[39;00m \u001b[38;5;28mself\u001b[39m\u001b[38;5;241m.\u001b[39m_plot_args(\n\u001b[0;32m    312\u001b[0m     this, kwargs, ambiguous_fmt_datakey\u001b[38;5;241m=\u001b[39mambiguous_fmt_datakey)\n",
      "File \u001b[1;32mc:\\Users\\USRR\\anaconda3\\Lib\\site-packages\\matplotlib\\axes\\_base.py:504\u001b[0m, in \u001b[0;36m_process_plot_var_args._plot_args\u001b[1;34m(self, tup, kwargs, return_kwargs, ambiguous_fmt_datakey)\u001b[0m\n\u001b[0;32m    501\u001b[0m     \u001b[38;5;28mself\u001b[39m\u001b[38;5;241m.\u001b[39maxes\u001b[38;5;241m.\u001b[39myaxis\u001b[38;5;241m.\u001b[39mupdate_units(y)\n\u001b[0;32m    503\u001b[0m \u001b[38;5;28;01mif\u001b[39;00m x\u001b[38;5;241m.\u001b[39mshape[\u001b[38;5;241m0\u001b[39m] \u001b[38;5;241m!=\u001b[39m y\u001b[38;5;241m.\u001b[39mshape[\u001b[38;5;241m0\u001b[39m]:\n\u001b[1;32m--> 504\u001b[0m     \u001b[38;5;28;01mraise\u001b[39;00m \u001b[38;5;167;01mValueError\u001b[39;00m(\u001b[38;5;124mf\u001b[39m\u001b[38;5;124m\"\u001b[39m\u001b[38;5;124mx and y must have same first dimension, but \u001b[39m\u001b[38;5;124m\"\u001b[39m\n\u001b[0;32m    505\u001b[0m                      \u001b[38;5;124mf\u001b[39m\u001b[38;5;124m\"\u001b[39m\u001b[38;5;124mhave shapes \u001b[39m\u001b[38;5;132;01m{\u001b[39;00mx\u001b[38;5;241m.\u001b[39mshape\u001b[38;5;132;01m}\u001b[39;00m\u001b[38;5;124m and \u001b[39m\u001b[38;5;132;01m{\u001b[39;00my\u001b[38;5;241m.\u001b[39mshape\u001b[38;5;132;01m}\u001b[39;00m\u001b[38;5;124m\"\u001b[39m)\n\u001b[0;32m    506\u001b[0m \u001b[38;5;28;01mif\u001b[39;00m x\u001b[38;5;241m.\u001b[39mndim \u001b[38;5;241m>\u001b[39m \u001b[38;5;241m2\u001b[39m \u001b[38;5;129;01mor\u001b[39;00m y\u001b[38;5;241m.\u001b[39mndim \u001b[38;5;241m>\u001b[39m \u001b[38;5;241m2\u001b[39m:\n\u001b[0;32m    507\u001b[0m     \u001b[38;5;28;01mraise\u001b[39;00m \u001b[38;5;167;01mValueError\u001b[39;00m(\u001b[38;5;124mf\u001b[39m\u001b[38;5;124m\"\u001b[39m\u001b[38;5;124mx and y can be no greater than 2D, but have \u001b[39m\u001b[38;5;124m\"\u001b[39m\n\u001b[0;32m    508\u001b[0m                      \u001b[38;5;124mf\u001b[39m\u001b[38;5;124m\"\u001b[39m\u001b[38;5;124mshapes \u001b[39m\u001b[38;5;132;01m{\u001b[39;00mx\u001b[38;5;241m.\u001b[39mshape\u001b[38;5;132;01m}\u001b[39;00m\u001b[38;5;124m and \u001b[39m\u001b[38;5;132;01m{\u001b[39;00my\u001b[38;5;241m.\u001b[39mshape\u001b[38;5;132;01m}\u001b[39;00m\u001b[38;5;124m\"\u001b[39m)\n",
      "\u001b[1;31mValueError\u001b[0m: x and y must have same first dimension, but have shapes (9802,) and (100,)"
     ]
    },
    {
     "data": {
      "image/png": "[encoded data removed]",
      "text/plain": [
       "<Figure size 640x480 with 1 Axes>"
      ]
     },
     "metadata": {},
     "output_type": "display_data"
    }
   ],
   "source": [
    "# scores, states = sim(500, 100, seed=10, sort_func=bubble_1)\n",
    "plot_algorithms([bubble_1], \n",
    "                [\"B1\"],\n",
    "                500,100)"
   ]
  },
  {
   "cell_type": "code",
   "execution_count": null,
   "id": "0cdc812e",
   "metadata": {},
   "outputs": [],
   "source": []
  }
 ],
 "metadata": {
  "kernelspec": {
   "display_name": "base",
   "language": "python",
   "name": "python3"
  },
  "language_info": {
   "codemirror_mode": {
    "name": "ipython",
    "version": 3
   },
   "file_extension": ".py",
   "mimetype": "text/x-python",
   "name": "python",
   "nbconvert_exporter": "python",
   "pygments_lexer": "ipython3",
   "version": "3.11.7"
  }
 },
 "nbformat": 4,
 "nbformat_minor": 5
}
